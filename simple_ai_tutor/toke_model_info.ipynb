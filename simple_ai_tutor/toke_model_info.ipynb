{
 "cells": [
  {
   "cell_type": "code",
   "execution_count": 4,
   "id": "17a3b5e9",
   "metadata": {},
   "outputs": [],
   "source": [
    "from decouple import config\n",
    "GOOGLE_API_KEY = config(\"GOOGLE_API_KEY\")"
   ]
  },
  {
   "cell_type": "code",
   "execution_count": 9,
   "id": "1d003f02",
   "metadata": {},
   "outputs": [],
   "source": [
    "from google import genai\n",
    "\n",
    "client = genai.Client(\n",
    "    api_key = GOOGLE_API_KEY\n",
    ")"
   ]
  },
  {
   "cell_type": "code",
   "execution_count": 10,
   "id": "6d4eb592",
   "metadata": {},
   "outputs": [
    {
     "name": "stdout",
     "output_type": "stream",
     "text": [
      "model_info.input_token_limit=1048576\n",
      "model_info.output_token_limit=65536\n"
     ]
    }
   ],
   "source": [
    "model_info = client.models.get(model=\"gemini-2.5-pro\")\n",
    "print(f\"{model_info.input_token_limit=}\")\n",
    "print(f\"{model_info.output_token_limit=}\")"
   ]
  },
  {
   "cell_type": "code",
   "execution_count": 13,
   "id": "730b02d6",
   "metadata": {},
   "outputs": [
    {
     "name": "stdout",
     "output_type": "stream",
     "text": [
      "token_info.total_tokens=7\n"
     ]
    }
   ],
   "source": [
    "token_info = client.models.count_tokens(\n",
    "    model=\"gemini-2.5-pro\",\n",
    "    contents=\"My name is Manav.\"\n",
    "    )\n",
    "print(f\"{token_info.total_tokens=}\")\n"
   ]
  },
  {
   "cell_type": "code",
   "execution_count": 17,
   "id": "3d21ff76",
   "metadata": {},
   "outputs": [
    {
     "data": {
      "text/plain": [
       "GenerateContentResponseUsageMetadata(\n",
       "  candidates_token_count=47,\n",
       "  prompt_token_count=11,\n",
       "  prompt_tokens_details=[\n",
       "    ModalityTokenCount(\n",
       "      modality=<MediaModality.TEXT: 'TEXT'>,\n",
       "      token_count=11\n",
       "    ),\n",
       "  ],\n",
       "  thoughts_token_count=1240,\n",
       "  total_token_count=1298\n",
       ")"
      ]
     },
     "execution_count": 17,
     "metadata": {},
     "output_type": "execute_result"
    }
   ],
   "source": [
    "prompt = \"What is Array? Explain it in few words.\"\n",
    "response = client.models.generate_content(\n",
    "    model = 'gemini-2.5-pro',\n",
    "    contents = prompt\n",
    ")\n",
    "response.usage_metadata"
   ]
  }
 ],
 "metadata": {
  "kernelspec": {
   "display_name": "base",
   "language": "python",
   "name": "python3"
  },
  "language_info": {
   "codemirror_mode": {
    "name": "ipython",
    "version": 3
   },
   "file_extension": ".py",
   "mimetype": "text/x-python",
   "name": "python",
   "nbconvert_exporter": "python",
   "pygments_lexer": "ipython3",
   "version": "3.12.7"
  }
 },
 "nbformat": 4,
 "nbformat_minor": 5
}
