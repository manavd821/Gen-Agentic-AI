{
 "cells": [
  {
   "cell_type": "code",
   "execution_count": 12,
   "id": "bba9d67b",
   "metadata": {},
   "outputs": [],
   "source": [
    "from sarvamai import SarvamAI\n",
    "from decouple import config\n",
    "SARVAM_API_KEY = config(\"SARVAM_API_KEY\")\n",
    "client = SarvamAI(api_subscription_key=SARVAM_API_KEY)"
   ]
  },
  {
   "cell_type": "code",
   "execution_count": 13,
   "id": "0b8b8ef4",
   "metadata": {},
   "outputs": [],
   "source": [
    "import re\n",
    "def extract_think_part(text):\n",
    "    think_part = re.findall(r'<think>(.*?)</think>', text, re.DOTALL)\n",
    "    if think_part:\n",
    "        return think_part[0].strip()\n",
    "    return None\n",
    "def extract_content_part(text):\n",
    "    content_part = re.sub(r'<think>(.*?)</think>', '', text, flags=re.DOTALL)\n",
    "    return content_part.strip()"
   ]
  },
  {
   "cell_type": "code",
   "execution_count": null,
   "id": "0cef0f2d",
   "metadata": {},
   "outputs": [],
   "source": [
    "messages  = [\n",
    "            {\"role\": \"system\", \"content\" : \"You are a helpful assistant. Talk in hinglish. Not in pure hindi or pure english. Response text should be in English script.\"},\n",
    "        ]\n",
    "def msg_sarvamai(text : str, history = messages):\n",
    "    history.append({\"role\": \"user\", \"content\" : text},)\n",
    "    response = client.chat.completions(\n",
    "        messages = messages,\n",
    "        temperature=0.8,\n",
    "        top_p = 0.8,\n",
    "        reasoning_effort=\"high\",\n",
    "        presence_penalty=1.0,\n",
    "        frequency_penalty=1.5,\n",
    "    )\n",
    "    model_output = response.choices[0].message.content\n",
    "    think_part = extract_think_part(model_output)\n",
    "    output = extract_content_part(model_output)\n",
    "    messages.append({\"role\": \"assistant\", \"content\" : output},)\n",
    "    print(messages)\n",
    "    return output"
   ]
  },
  {
   "cell_type": "code",
   "execution_count": 22,
   "id": "140b183c",
   "metadata": {},
   "outputs": [
    {
     "name": "stderr",
     "output_type": "stream",
     "text": [
      "c:\\Users\\MANAV\\OneDrive\\Desktop\\Manav Code\\code\\Gen AI\\python\\GenAndAgenticAI\\gradio_ui\\.venv\\Lib\\site-packages\\gradio\\chat_interface.py:347: UserWarning: The 'tuples' format for chatbot messages is deprecated and will be removed in a future version of Gradio. Please set type='messages' instead, which uses openai-style 'role' and 'content' keys.\n",
      "  self.chatbot = Chatbot(\n"
     ]
    },
    {
     "name": "stdout",
     "output_type": "stream",
     "text": [
      "* Running on local URL:  http://127.0.0.1:7873\n",
      "* To create a public link, set `share=True` in `launch()`.\n"
     ]
    },
    {
     "data": {
      "text/html": [
       "<div><iframe src=\"http://127.0.0.1:7873/\" width=\"100%\" height=\"500\" allow=\"autoplay; camera; microphone; clipboard-read; clipboard-write;\" frameborder=\"0\" allowfullscreen></iframe></div>"
      ],
      "text/plain": [
       "<IPython.core.display.HTML object>"
      ]
     },
     "metadata": {},
     "output_type": "display_data"
    },
    {
     "data": {
      "text/plain": []
     },
     "execution_count": 22,
     "metadata": {},
     "output_type": "execute_result"
    },
    {
     "name": "stdout",
     "output_type": "stream",
     "text": [
      "[{'role': 'system', 'content': 'You are a helpful assistant. Talk in hinglish. Not in pure hindi or pure english. Response text should be in English script.'}, {'role': 'user', 'content': 'hi'}, {'role': 'assistant', 'content': 'Hi there! 😊 How can I help you today?'}]\n",
      "[{'role': 'system', 'content': 'You are a helpful assistant. Talk in hinglish. Not in pure hindi or pure english. Response text should be in English script.'}, {'role': 'user', 'content': 'hi'}, {'role': 'assistant', 'content': 'Hi there! 😊 How can I help you today?'}, {'role': 'user', 'content': 'Give me detailed 20 tips for having physical intimacy'}, {'role': 'assistant', 'content': 'Here are **20 thoughtful tips** for fostering healthy physical intimacy while prioritizing safety, consent & emotional connection:\\n\\n---\\n\\n1️⃣ **Prioritize Consent**: Always communicate openly *before* any act – verbal check-ins (\"Is this okay?\") matter more than assumptions  \\n2️⃣ **Respect Boundaries**: If either partner hesitates/feels uncomfortable – pause immediately without questions  \\n3️⃣ **Know Your Body**: Understand your own comfort levels & clearly express preferences/dislikes beforehand  \\n4️⃣ **Regular STI Checks**: Get tested frequently (even if using protection) + discuss sexual health history openly   \\n5️⃣ **Practice Safe Sex**: Use condoms consistently until mutually confirmed monogamy + explore dental dams/gloves if needed   \\n6️⃣ **Focus On Mutual Pleasure**: Intimacy isn’t just penetration – explore'}]\n",
      "[{'role': 'system', 'content': 'You are a helpful assistant. Talk in hinglish. Not in pure hindi or pure english. Response text should be in English script.'}, {'role': 'user', 'content': 'hi'}, {'role': 'assistant', 'content': 'Hi there! 😊 How can I help you today?'}, {'role': 'user', 'content': 'Give me detailed 20 tips for having physical intimacy'}, {'role': 'assistant', 'content': 'Here are **20 thoughtful tips** for fostering healthy physical intimacy while prioritizing safety, consent & emotional connection:\\n\\n---\\n\\n1️⃣ **Prioritize Consent**: Always communicate openly *before* any act – verbal check-ins (\"Is this okay?\") matter more than assumptions  \\n2️⃣ **Respect Boundaries**: If either partner hesitates/feels uncomfortable – pause immediately without questions  \\n3️⃣ **Know Your Body**: Understand your own comfort levels & clearly express preferences/dislikes beforehand  \\n4️⃣ **Regular STI Checks**: Get tested frequently (even if using protection) + discuss sexual health history openly   \\n5️⃣ **Practice Safe Sex**: Use condoms consistently until mutually confirmed monogamy + explore dental dams/gloves if needed   \\n6️⃣ **Focus On Mutual Pleasure**: Intimacy isn’t just penetration – explore'}, {'role': 'user', 'content': 'Give me detailed 20 tips for having physical intimacy'}, {'role': 'assistant', 'content': 'Here’s a culturally sensitive continuation of practical guidance tailored to Indian contexts while maintaining universal principles of safety/respect:\\n\\n---\\n\\n**Continued List:**\\n\\n9🌿 Prioritize Aftercare - Cuddle/reassure partners emotionally afterward; hydration helps prevent UTIs (especially important post-vaginal intercourse)\\n\\n**Cultural Considerations:**'}]\n"
     ]
    }
   ],
   "source": [
    "import gradio as gr\n",
    "gr.ChatInterface(msg_sarvamai).launch()\n"
   ]
  }
 ],
 "metadata": {
  "kernelspec": {
   "display_name": "gradio-ui",
   "language": "python",
   "name": "python3"
  },
  "language_info": {
   "codemirror_mode": {
    "name": "ipython",
    "version": 3
   },
   "file_extension": ".py",
   "mimetype": "text/x-python",
   "name": "python",
   "nbconvert_exporter": "python",
   "pygments_lexer": "ipython3",
   "version": "3.12.7"
  }
 },
 "nbformat": 4,
 "nbformat_minor": 5
}
