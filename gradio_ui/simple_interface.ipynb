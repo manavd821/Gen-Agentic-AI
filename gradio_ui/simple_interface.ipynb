{
 "cells": [
  {
   "cell_type": "code",
   "execution_count": 2,
   "id": "bba9d67b",
   "metadata": {},
   "outputs": [],
   "source": [
    "from sarvamai import SarvamAI\n",
    "from decouple import config\n",
    "SARVAM_API_KEY = config(\"SARVAM_API_KEY\")\n",
    "client = SarvamAI(api_subscription_key=SARVAM_API_KEY)"
   ]
  },
  {
   "cell_type": "code",
   "execution_count": 3,
   "id": "0b8b8ef4",
   "metadata": {},
   "outputs": [],
   "source": [
    "import re\n",
    "def extract_think_part(text):\n",
    "    think_part = re.findall(r'<think>(.*?)</think>', text, re.DOTALL)\n",
    "    if think_part:\n",
    "        return think_part[0].strip()\n",
    "    return None\n",
    "def extract_content_part(text):\n",
    "    content_part = re.sub(r'<think>(.*?)</think>', '', text, flags=re.DOTALL)\n",
    "    return content_part.strip()"
   ]
  },
  {
   "cell_type": "code",
   "execution_count": 4,
   "id": "0cef0f2d",
   "metadata": {},
   "outputs": [],
   "source": [
    "messages  = [\n",
    "            {\"role\": \"system\", \"content\" : \"You are a helpful assistant. Talk in hinglish. Not in pure hindi or pure english. Response text should be in English script.\"},\n",
    "        ]\n",
    "def msg_sarvamai(text : str):\n",
    "    messages.append({\"role\": \"user\", \"content\" : text},)\n",
    "    response = client.chat.completions(\n",
    "        messages = messages,\n",
    "        temperature=0.8,\n",
    "        top_p = 0.8,\n",
    "        reasoning_effort=\"high\",\n",
    "        presence_penalty=1.0,\n",
    "        frequency_penalty=1.5,\n",
    "    )\n",
    "    model_output = response.choices[0].message.content\n",
    "    think_part = extract_think_part(model_output)\n",
    "    output = extract_content_part(model_output)\n",
    "    messages.append({\"role\": \"assistant\", \"content\" : output},)\n",
    "    print(messages)\n",
    "    return output"
   ]
  },
  {
   "cell_type": "code",
   "execution_count": 6,
   "id": "deec4120",
   "metadata": {},
   "outputs": [
    {
     "name": "stderr",
     "output_type": "stream",
     "text": [
      "c:\\Users\\MANAV\\OneDrive\\Desktop\\Manav Code\\code\\Gen AI\\python\\GenAndAgenticAI\\gradio_ui\\.venv\\Lib\\site-packages\\tqdm\\auto.py:21: TqdmWarning: IProgress not found. Please update jupyter and ipywidgets. See https://ipywidgets.readthedocs.io/en/stable/user_install.html\n",
      "  from .autonotebook import tqdm as notebook_tqdm\n"
     ]
    }
   ],
   "source": [
    "import gradio as gr"
   ]
  },
  {
   "cell_type": "code",
   "execution_count": null,
   "id": "140b183c",
   "metadata": {},
   "outputs": [
    {
     "name": "stdout",
     "output_type": "stream",
     "text": [
      "* Running on local URL:  http://127.0.0.1:7864\n",
      "* To create a public link, set `share=True` in `launch()`.\n"
     ]
    },
    {
     "data": {
      "text/html": [
       "<div><iframe src=\"http://127.0.0.1:7864/\" width=\"100%\" height=\"500\" allow=\"autoplay; camera; microphone; clipboard-read; clipboard-write;\" frameborder=\"0\" allowfullscreen></iframe></div>"
      ],
      "text/plain": [
       "<IPython.core.display.HTML object>"
      ]
     },
     "metadata": {},
     "output_type": "display_data"
    },
    {
     "data": {
      "text/plain": []
     },
     "execution_count": 7,
     "metadata": {},
     "output_type": "execute_result"
    },
    {
     "name": "stdout",
     "output_type": "stream",
     "text": [
      "[{'role': 'system', 'content': 'You are a helpful assistant. Talk in hinglish. Not in pure hindi or pure english. Response text should be in English script.'}, {'role': 'user', 'content': 'Hello, how are you?'}, {'role': 'assistant', 'content': 'Namaste! Main theek hun, puchhne ke liye shukriya! Aapka kya haal hai? Aaj main aapki kya madad kar sakta hun? 😊'}]\n",
      "[{'role': 'system', 'content': 'You are a helpful assistant. Talk in hinglish. Not in pure hindi or pure english. Response text should be in English script.'}, {'role': 'user', 'content': 'Hello, how are you?'}, {'role': 'assistant', 'content': 'Namaste! Main theek hun, puchhne ke liye shukriya! Aapka kya haal hai? Aaj main aapki kya madad kar sakta hun? 😊'}, {'role': 'user', 'content': 'What is the capital of India?'}, {'role': 'assistant', 'content': 'The capital of India is **New Delhi**! It’s not just a political hub but also full of amazing history and culture – from iconic landmarks like Qutub Minar to bustling markets like Chandni Chowk 🇮🇳✨ Let me know if you’d like more details!'}]\n"
     ]
    }
   ],
   "source": [
    "message_input = gr.Textbox(label=\"Your message\", placeholder=\"Type your message here...\", lines=10)\n",
    "message_output = gr.Markdown(label=\"Response\")\n",
    "view = gr.Interface(\n",
    "    fn=msg_sarvamai,\n",
    "    title=\"SarvamAI Chatbot\",\n",
    "    description=\"Chatbot using SarvamAI LLM\",\n",
    "    inputs=[message_input],\n",
    "    outputs=[message_output],\n",
    "    flagging_mode=\"never\",\n",
    "    examples=[\n",
    "        [\"Hello, how are you?\"],\n",
    "        [\"What is the capital of India?\"],\n",
    "        [\"Explain the theory of relativity in simple terms.\"],\n",
    "        [\"Can you help me with Python programming?\"],\n",
    "    ]\n",
    ")\n",
    "view.launch()"
   ]
  },
  {
   "cell_type": "code",
   "execution_count": null,
   "id": "8c1da4d9",
   "metadata": {},
   "outputs": [
    {
     "name": "stdout",
     "output_type": "stream",
     "text": [
      "* Running on local URL:  http://127.0.0.1:7864\n",
      "* To create a public link, set `share=True` in `launch()`.\n"
     ]
    },
    {
     "data": {
      "text/html": [
       "<div><iframe src=\"http://127.0.0.1:7864/\" width=\"100%\" height=\"500\" allow=\"autoplay; camera; microphone; clipboard-read; clipboard-write;\" frameborder=\"0\" allowfullscreen></iframe></div>"
      ],
      "text/plain": [
       "<IPython.core.display.HTML object>"
      ]
     },
     "metadata": {},
     "output_type": "display_data"
    },
    {
     "data": {
      "text/plain": []
     },
     "execution_count": 6,
     "metadata": {},
     "output_type": "execute_result"
    }
   ],
   "source": [
    "import gradio as gr\n",
    "def shout(text : str):\n",
    "    return text.upper()\n",
    "\n",
    "gr.Interface(fn=shout, inputs=\"textbox\", outputs=\"textbox\",flagging_mode=\"never\").launch(auth=((\"admin\",\"password\"),(\"manav\",\"manav\")))"
   ]
  }
 ],
 "metadata": {
  "kernelspec": {
   "display_name": "gradio-ui",
   "language": "python",
   "name": "python3"
  },
  "language_info": {
   "codemirror_mode": {
    "name": "ipython",
    "version": 3
   },
   "file_extension": ".py",
   "mimetype": "text/x-python",
   "name": "python",
   "nbconvert_exporter": "python",
   "pygments_lexer": "ipython3",
   "version": "3.12.7"
  }
 },
 "nbformat": 4,
 "nbformat_minor": 5
}
